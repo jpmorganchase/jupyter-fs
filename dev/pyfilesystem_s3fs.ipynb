{
 "cells": [
  {
   "cell_type": "markdown",
   "metadata": {},
   "source": [
    "Launch local S3 via s3proxy in a docker container (will not persist data):\n",
    "\n",
    "```\n",
    "docker run -p 9000:80 --env S3PROXY_AUTHORIZATION=none andrewgaul/s3proxy\n",
    "```"
   ]
  },
  {
   "cell_type": "code",
   "execution_count": 1,
   "metadata": {},
   "outputs": [],
   "source": [
    "%load_ext autoreload\n",
    "%autoreload 2"
   ]
  },
  {
   "cell_type": "code",
   "execution_count": 2,
   "metadata": {},
   "outputs": [],
   "source": [
    "import boto3, botocore\n",
    "from fs import open_fs\n",
    "import os\n",
    "import sys\n",
    "\n",
    "from jupyterfs.pyfilesystem_manager import PyFilesystemContentsManager"
   ]
  },
  {
   "cell_type": "markdown",
   "metadata": {},
   "source": [
    "## Create a bucket to use as the filesystem"
   ]
  },
  {
   "cell_type": "code",
   "execution_count": 3,
   "metadata": {
    "scrolled": true
   },
   "outputs": [
    {
     "name": "stdout",
     "output_type": "stream",
     "text": [
      "{'ResponseMetadata': {'RequestId': '4442587FB7D0A2F9', 'HostId': '', 'HTTPStatusCode': 200, 'HTTPHeaders': {'date': 'Fri, 20 Mar 2020 07:23:24 GMT', 'x-amz-request-id': '4442587FB7D0A2F9', 'content-type': 'application/xml; charset=UTF-8', 'transfer-encoding': 'chunked', 'server': 'Jetty(9.2.z-SNAPSHOT)'}, 'RetryAttempts': 0}, 'IsTruncated': False, 'Marker': '', 'Name': 'foo', 'Prefix': '', 'MaxKeys': 1000, 'EncodingType': 'url'}\n",
      "{'ResponseMetadata': {'RequestId': '4442587FB7D0A2F9', 'HostId': '', 'HTTPStatusCode': 200, 'HTTPHeaders': {'date': 'Fri, 20 Mar 2020 07:23:24 GMT', 'x-amz-request-id': '4442587FB7D0A2F9', 'content-type': 'application/xml; charset=UTF-8', 'transfer-encoding': 'chunked', 'server': 'Jetty(9.2.z-SNAPSHOT)'}, 'RetryAttempts': 0}, 'IsTruncated': False, 'Name': 'foo', 'Prefix': '', 'MaxKeys': 1000, 'EncodingType': 'url', 'KeyCount': 0, 'ContinuationToken': '', 'StartAfter': ''}\n"
     ]
    },
    {
     "data": {
      "text/plain": [
       "{'ResponseMetadata': {'RequestId': '4442587FB7D0A2F9',\n",
       "  'HostId': '',\n",
       "  'HTTPStatusCode': 200,\n",
       "  'HTTPHeaders': {'date': 'Fri, 20 Mar 2020 07:23:24 GMT',\n",
       "   'x-amz-request-id': '4442587FB7D0A2F9',\n",
       "   'location': '/foo',\n",
       "   'content-length': '0',\n",
       "   'server': 'Jetty(9.2.z-SNAPSHOT)'},\n",
       "  'RetryAttempts': 0},\n",
       " 'Location': '/foo'}"
      ]
     },
     "execution_count": 3,
     "metadata": {},
     "output_type": "execute_result"
    }
   ],
   "source": [
    "bucket_name = 'foo'\n",
    "boto_kwargs = dict(\n",
    "    config=botocore.client.Config(signature_version=botocore.UNSIGNED),\n",
    "    endpoint_url='http://127.0.0.1:9000',\n",
    "#     aws_access_key_id='',\n",
    "#     aws_secret_access_key='',\n",
    "#     region_name=self.region,\n",
    ")\n",
    "\n",
    "client = boto3.client('s3', **boto_kwargs)\n",
    "resource = boto3.resource('s3', **boto_kwargs)\n",
    "\n",
    "# check if bucket already exists\n",
    "bucket = resource.Bucket(bucket_name)\n",
    "bucket_exists = True\n",
    "try:\n",
    "    resource.meta.client.head_bucket(Bucket=bucket_name)\n",
    "except botocore.exceptions.ClientError as e:\n",
    "    # If it was a 404 error, then the bucket does not exist.\n",
    "    error_code = e.response['Error']['Code']\n",
    "    if error_code == '404':\n",
    "        bucket_exists = False\n",
    "\n",
    "if bucket_exists:\n",
    "    # dump info on any existing s3 contents\n",
    "    for key in bucket.objects.all():\n",
    "        print(key)\n",
    "    print(client.list_objects(Bucket=bucket_name))\n",
    "    print(client.list_objects_v2(Bucket=bucket_name))\n",
    "\n",
    "    # delete the bucket\n",
    "    for key in bucket.objects.all():\n",
    "        key.delete()\n",
    "    bucket.delete()\n",
    "\n",
    "client.create_bucket(Bucket=bucket_name)"
   ]
  },
  {
   "cell_type": "markdown",
   "metadata": {},
   "source": [
    "## Set up a S3 PyFilesystemContentsManager"
   ]
  },
  {
   "cell_type": "code",
   "execution_count": 4,
   "metadata": {},
   "outputs": [],
   "source": [
    "fooman = PyFilesystemContentsManager.open_fs('s3://foo?endpoint_url=http://127.0.0.1:9000')\n",
    "# fooman.get('')"
   ]
  },
  {
   "cell_type": "markdown",
   "metadata": {},
   "source": [
    "## Set up a local PyFilesystemContentsManager"
   ]
  },
  {
   "cell_type": "code",
   "execution_count": 5,
   "metadata": {},
   "outputs": [],
   "source": [
    "osman = PyFilesystemContentsManager.open_fs('osfs://%s' % os.getcwd())\n",
    "# osman.get('')"
   ]
  },
  {
   "cell_type": "markdown",
   "metadata": {},
   "source": [
    "## Create some dirs on our S3 filesystem and save this notebook into them"
   ]
  },
  {
   "cell_type": "code",
   "execution_count": 6,
   "metadata": {},
   "outputs": [
    {
     "data": {
      "text/plain": [
       "{'name': 'pyfilesystem_s3fs.ipynb',\n",
       " 'path': 'root1/leaf1/pyfilesystem_s3fs.ipynb',\n",
       " 'last_modified': datetime.datetime(2020, 3, 20, 7, 23, 33, tzinfo=<UTC>),\n",
       " 'created': None,\n",
       " 'content': None,\n",
       " 'format': None,\n",
       " 'mimetype': None,\n",
       " 'size': 11229,\n",
       " 'writable': True,\n",
       " 'type': 'notebook'}"
      ]
     },
     "execution_count": 6,
     "metadata": {},
     "output_type": "execute_result"
    }
   ],
   "source": [
    "fooman.save(osman.get('pyfilesystem_s3fs.ipynb'), 'pyfilesystem_s3fs.ipynb')\n",
    "fooman._save_directory('root0', None)\n",
    "fooman._save_directory('root1', None)\n",
    "fooman._save_directory('root1/leaf1', None)\n",
    "fooman.save(osman.get(\"pyfilesystem_s3fs.ipynb\"), 'root0/pyfilesystem_s3fs.ipynb')\n",
    "fooman.save(osman.get(\"pyfilesystem_s3fs.ipynb\"), 'root1/leaf1/pyfilesystem_s3fs.ipynb')"
   ]
  },
  {
   "cell_type": "markdown",
   "metadata": {},
   "source": [
    "## Retrieve the saved data from our S3 filesystem"
   ]
  },
  {
   "cell_type": "code",
   "execution_count": 7,
   "metadata": {
    "scrolled": true
   },
   "outputs": [
    {
     "data": {
      "text/plain": [
       "{'name': 'pyfilesystem_s3fs.ipynb',\n",
       " 'path': 'pyfilesystem_s3fs.ipynb',\n",
       " 'last_modified': datetime.datetime(2020, 3, 20, 7, 23, 33, tzinfo=<UTC>),\n",
       " 'created': None,\n",
       " 'content': {'cells': [{'cell_type': 'markdown',\n",
       "    'metadata': {},\n",
       "    'source': 'Launch local S3 via s3proxy in a docker container (will not persist data):\\n\\n```\\ndocker run -p 9000:80 --env S3PROXY_AUTHORIZATION=none andrewgaul/s3proxy\\n```'},\n",
       "   {'cell_type': 'code',\n",
       "    'execution_count': 1,\n",
       "    'metadata': {'trusted': True},\n",
       "    'outputs': [],\n",
       "    'source': '%load_ext autoreload\\n%autoreload 2'},\n",
       "   {'cell_type': 'code',\n",
       "    'execution_count': 2,\n",
       "    'metadata': {'trusted': True},\n",
       "    'outputs': [],\n",
       "    'source': 'import boto3, botocore\\nfrom fs import open_fs\\nimport os\\nimport sys\\n\\nfrom jupyterfs.pyfilesystem_manager import PyFilesystemContentsManager'},\n",
       "   {'cell_type': 'markdown',\n",
       "    'metadata': {},\n",
       "    'source': '## Create a bucket to use as the filesystem'},\n",
       "   {'cell_type': 'code',\n",
       "    'execution_count': 18,\n",
       "    'metadata': {'scrolled': True, 'trusted': True},\n",
       "    'outputs': [{'name': 'stdout',\n",
       "      'output_type': 'stream',\n",
       "      'text': \"{'ResponseMetadata': {'RequestId': '4442587FB7D0A2F9', 'HostId': '', 'HTTPStatusCode': 200, 'HTTPHeaders': {'date': 'Fri, 20 Mar 2020 07:08:58 GMT', 'x-amz-request-id': '4442587FB7D0A2F9', 'content-type': 'application/xml; charset=UTF-8', 'transfer-encoding': 'chunked', 'server': 'Jetty(9.2.z-SNAPSHOT)'}, 'RetryAttempts': 0}, 'IsTruncated': False, 'Marker': '', 'Name': 'foo', 'Prefix': '', 'MaxKeys': 1000, 'EncodingType': 'url'}\\n{'ResponseMetadata': {'RequestId': '4442587FB7D0A2F9', 'HostId': '', 'HTTPStatusCode': 200, 'HTTPHeaders': {'date': 'Fri, 20 Mar 2020 07:08:58 GMT', 'x-amz-request-id': '4442587FB7D0A2F9', 'content-type': 'application/xml; charset=UTF-8', 'transfer-encoding': 'chunked', 'server': 'Jetty(9.2.z-SNAPSHOT)'}, 'RetryAttempts': 0}, 'IsTruncated': False, 'Name': 'foo', 'Prefix': '', 'MaxKeys': 1000, 'EncodingType': 'url', 'KeyCount': 0, 'ContinuationToken': '', 'StartAfter': ''}\\n\"},\n",
       "     {'data': {'text/plain': \"{'ResponseMetadata': {'RequestId': '4442587FB7D0A2F9',\\n  'HostId': '',\\n  'HTTPStatusCode': 200,\\n  'HTTPHeaders': {'date': 'Fri, 20 Mar 2020 07:08:58 GMT',\\n   'x-amz-request-id': '4442587FB7D0A2F9',\\n   'location': '/foo',\\n   'content-length': '0',\\n   'server': 'Jetty(9.2.z-SNAPSHOT)'},\\n  'RetryAttempts': 0},\\n 'Location': '/foo'}\"},\n",
       "      'execution_count': 18,\n",
       "      'metadata': {},\n",
       "      'output_type': 'execute_result'}],\n",
       "    'source': \"bucket_name = 'foo'\\nboto_kwargs = dict(\\n    config=botocore.client.Config(signature_version=botocore.UNSIGNED),\\n    endpoint_url='http://127.0.0.1:9000',\\n#     aws_access_key_id='',\\n#     aws_secret_access_key='',\\n#     region_name=self.region,\\n)\\n\\nclient = boto3.client('s3', **boto_kwargs)\\nresource = boto3.resource('s3', **boto_kwargs)\\n\\n# check if bucket already exists\\nbucket = resource.Bucket(bucket_name)\\nbucket_exists = True\\ntry:\\n    resource.meta.client.head_bucket(Bucket=bucket_name)\\nexcept botocore.exceptions.ClientError as e:\\n    # If it was a 404 error, then the bucket does not exist.\\n    error_code = e.response['Error']['Code']\\n    if error_code == '404':\\n        bucket_exists = False\\n\\nif bucket_exists:\\n    # dump info on any existing s3 contents\\n    for key in bucket.objects.all():\\n        print(key)\\n    print(client.list_objects(Bucket=bucket_name))\\n    print(client.list_objects_v2(Bucket=bucket_name))\\n\\n    # delete the bucket\\n    for key in bucket.objects.all():\\n        key.delete()\\n    bucket.delete()\\n\\nclient.create_bucket(Bucket=bucket_name)\"},\n",
       "   {'cell_type': 'markdown',\n",
       "    'metadata': {},\n",
       "    'source': '## Set up a S3 PyFilesystemContentsManager'},\n",
       "   {'cell_type': 'code',\n",
       "    'execution_count': None,\n",
       "    'metadata': {'trusted': True},\n",
       "    'outputs': [],\n",
       "    'source': \"fooman = PyFilesystemContentsManager.open_fs('s3://foo?endpoint_url=http://127.0.0.1:9000')\\n# fooman.get('')\"},\n",
       "   {'cell_type': 'markdown',\n",
       "    'metadata': {},\n",
       "    'source': '## Set up a local PyFilesystemContentsManager'},\n",
       "   {'cell_type': 'code',\n",
       "    'execution_count': None,\n",
       "    'metadata': {'trusted': True},\n",
       "    'outputs': [],\n",
       "    'source': \"osman = PyFilesystemContentsManager.open_fs('osfs://%s' % os.getcwd())\\n# osman.get('')\"},\n",
       "   {'cell_type': 'markdown',\n",
       "    'metadata': {},\n",
       "    'source': '## Create some dirs on our S3 filesystem and save this notebook into them'},\n",
       "   {'cell_type': 'code',\n",
       "    'execution_count': None,\n",
       "    'metadata': {'trusted': True},\n",
       "    'outputs': [],\n",
       "    'source': 'fooman.save(osman.get(\\'pyfilesystem_s3fs.ipynb\\'), \\'pyfilesystem_s3fs.ipynb\\')\\nfooman._save_directory(\\'root0\\', None)\\nfooman._save_directory(\\'root1\\', None)\\nfooman._save_directory(\\'root1/leaf1\\', None)\\nfooman.save(osman.get(\"pyfilesystem_s3fs.ipynb\"), \\'root0/pyfilesystem_s3fs.ipynb\\')\\nfooman.save(osman.get(\"pyfilesystem_s3fs.ipynb\"), \\'root1/leaf1/pyfilesystem_s3fs.ipynb\\')'},\n",
       "   {'cell_type': 'markdown',\n",
       "    'metadata': {},\n",
       "    'source': '## Retrieve the saved data from our S3 filesystem'},\n",
       "   {'cell_type': 'code',\n",
       "    'execution_count': None,\n",
       "    'metadata': {'scrolled': True, 'trusted': True},\n",
       "    'outputs': [],\n",
       "    'source': \"fpath = 'pyfilesystem_s3fs.ipynb'\\nfooman.get(fpath)\"},\n",
       "   {'cell_type': 'code',\n",
       "    'execution_count': None,\n",
       "    'metadata': {'scrolled': True, 'trusted': True},\n",
       "    'outputs': [],\n",
       "    'source': \"fpath = 'root0/pyfilesystem_s3fs.ipynb'\\nfooman.get(fpath)\"},\n",
       "   {'cell_type': 'code',\n",
       "    'execution_count': None,\n",
       "    'metadata': {'scrolled': True, 'trusted': True},\n",
       "    'outputs': [],\n",
       "    'source': \"fpath = 'root1/leaf1/pyfilesystem_s3fs.ipynb'\\nfooman.get(fpath)\"},\n",
       "   {'cell_type': 'markdown', 'metadata': {}, 'source': '## scratch'},\n",
       "   {'cell_type': 'markdown',\n",
       "    'metadata': {},\n",
       "    'source': '### examine underlying fs-s3fs'},\n",
       "   {'cell_type': 'code',\n",
       "    'execution_count': None,\n",
       "    'metadata': {'trusted': True},\n",
       "    'outputs': [],\n",
       "    'source': \"foofs = open_fs('s3://foo?endpoint_url=http://127.0.0.1:9000')\\nfoofs.getinfo('').raw\\nfoofs.getinfo('root1/')\"},\n",
       "   {'cell_type': 'code',\n",
       "    'execution_count': None,\n",
       "    'metadata': {'trusted': True},\n",
       "    'outputs': [],\n",
       "    'source': \"for fpath in ('pyfilesystem_s3fs.ipynb', 'root0/pyfilesystem_s3fs.ipynb', 'root1/leaf1/pyfilesystem_s3fs.ipynb'):\\n    print(foofs.getinfo(fpath).raw)\"},\n",
       "   {'cell_type': 'markdown',\n",
       "    'metadata': {},\n",
       "    'source': '## Use only boto3 resource api (not client api)'},\n",
       "   {'cell_type': 'code',\n",
       "    'execution_count': 24,\n",
       "    'metadata': {'scrolled': True, 'trusted': True},\n",
       "    'outputs': [{'data': {'text/plain': \"s3.Bucket(name='foo')\"},\n",
       "      'execution_count': 24,\n",
       "      'metadata': {},\n",
       "      'output_type': 'execute_result'}],\n",
       "    'source': \"bucket_name = 'foo'\\nboto_kwargs = dict(\\n    config=botocore.client.Config(signature_version=botocore.UNSIGNED),\\n    endpoint_url='http://127.0.0.1:9000',\\n)\\n\\nresource = boto3.resource('s3', **boto_kwargs)\\n\\n# check if bucket already exists\\nbucket = resource.Bucket(bucket_name)\\nbucket_exists = True\\ntry:\\n    resource.meta.client.head_bucket(Bucket=bucket_name)\\nexcept botocore.exceptions.ClientError as e:\\n    # If it was a 404 error, then the bucket does not exist.\\n    error_code = e.response['Error']['Code']\\n    if error_code == '404':\\n        bucket_exists = False\\n\\nif bucket_exists:\\n    # delete the bucket\\n    for key in bucket.objects.all():\\n        key.delete()\\n    bucket.delete()\\n\\nresource.create_bucket(Bucket=bucket_name)\"},\n",
       "   {'cell_type': 'code',\n",
       "    'execution_count': 26,\n",
       "    'metadata': {'trusted': True},\n",
       "    'outputs': [],\n",
       "    'source': \"test_bucket = 'test'\\ntest_endpoint_url = 'http://127.0.0.1:9000'\\n\\n_boto_kw = dict(\\n    config=botocore.client.Config(signature_version=botocore.UNSIGNED),\\n    endpoint_url=test_endpoint_url,\\n)\\n\\n\\ndef _s3Resource():\\n    return boto3.resource('s3', **_boto_kw)\\n\\n\\ndef _s3CreateBucket(bucket_name):\\n    s3Resource = _s3Resource()\\n\\n    # check if bucket already exists\\n    bucket = s3Resource.Bucket(bucket_name)\\n    bucket_exists = True\\n    try:\\n        s3Resource.meta.client.head_bucket(Bucket=bucket_name)\\n    except botocore.exceptions.ClientError as e:\\n        # If it was a 404 error, then the bucket does not exist.\\n        error_code = e.response['Error']['Code']\\n        if error_code == '404':\\n            bucket_exists = False\\n\\n    if not bucket_exists:\\n        # create the bucket\\n        s3Resource.create_bucket(Bucket=bucket_name)\\n\\n\\ndef _s3DeleteBucket(bucket_name):\\n    s3Resource = _s3Resource()\\n\\n    # check if bucket already exists\\n    bucket = s3Resource.Bucket(bucket_name)\\n    bucket_exists = True\\n    try:\\n        s3Resource.meta.client.head_bucket(Bucket=bucket_name)\\n    except botocore.exceptions.ClientError as e:\\n        # If it was a 404 error, then the bucket does not exist.\\n        error_code = e.response['Error']['Code']\\n        if error_code == '404':\\n            bucket_exists = False\\n\\n    if bucket_exists:\\n        # delete the bucket\\n        for key in bucket.objects.all():\\n            key.delete()\\n        bucket.delete()\\n\\n# test idempotency\\n_s3CreateBucket(test_bucket)\\n_s3DeleteBucket(test_bucket)\\n_s3DeleteBucket(test_bucket)\\n_s3CreateBucket(test_bucket)\\n_s3CreateBucket(test_bucket)\\n_s3DeleteBucket(test_bucket)\"},\n",
       "   {'cell_type': 'code',\n",
       "    'execution_count': None,\n",
       "    'metadata': {'trusted': True},\n",
       "    'outputs': [],\n",
       "    'source': ''}],\n",
       "  'metadata': {'kernelspec': {'display_name': 'Python 3',\n",
       "    'language': 'python',\n",
       "    'name': 'python3'},\n",
       "   'language_info': {'codemirror_mode': {'name': 'ipython', 'version': 3},\n",
       "    'file_extension': '.py',\n",
       "    'mimetype': 'text/x-python',\n",
       "    'name': 'python',\n",
       "    'nbconvert_exporter': 'python',\n",
       "    'pygments_lexer': 'ipython3',\n",
       "    'version': '3.7.6'}},\n",
       "  'nbformat': 4,\n",
       "  'nbformat_minor': 4},\n",
       " 'format': 'json',\n",
       " 'mimetype': None,\n",
       " 'size': 11229,\n",
       " 'writable': True,\n",
       " 'type': 'notebook'}"
      ]
     },
     "execution_count": 7,
     "metadata": {},
     "output_type": "execute_result"
    }
   ],
   "source": [
    "fpath = 'pyfilesystem_s3fs.ipynb'\n",
    "fooman.get(fpath)"
   ]
  },
  {
   "cell_type": "code",
   "execution_count": 8,
   "metadata": {
    "scrolled": true
   },
   "outputs": [
    {
     "data": {
      "text/plain": [
       "{'name': 'pyfilesystem_s3fs.ipynb',\n",
       " 'path': 'root0/pyfilesystem_s3fs.ipynb',\n",
       " 'last_modified': datetime.datetime(2020, 3, 20, 7, 23, 33, tzinfo=<UTC>),\n",
       " 'created': None,\n",
       " 'content': {'cells': [{'cell_type': 'markdown',\n",
       "    'metadata': {},\n",
       "    'source': 'Launch local S3 via s3proxy in a docker container (will not persist data):\\n\\n```\\ndocker run -p 9000:80 --env S3PROXY_AUTHORIZATION=none andrewgaul/s3proxy\\n```'},\n",
       "   {'cell_type': 'code',\n",
       "    'execution_count': 1,\n",
       "    'metadata': {'trusted': True},\n",
       "    'outputs': [],\n",
       "    'source': '%load_ext autoreload\\n%autoreload 2'},\n",
       "   {'cell_type': 'code',\n",
       "    'execution_count': 2,\n",
       "    'metadata': {'trusted': True},\n",
       "    'outputs': [],\n",
       "    'source': 'import boto3, botocore\\nfrom fs import open_fs\\nimport os\\nimport sys\\n\\nfrom jupyterfs.pyfilesystem_manager import PyFilesystemContentsManager'},\n",
       "   {'cell_type': 'markdown',\n",
       "    'metadata': {},\n",
       "    'source': '## Create a bucket to use as the filesystem'},\n",
       "   {'cell_type': 'code',\n",
       "    'execution_count': 18,\n",
       "    'metadata': {'scrolled': True, 'trusted': True},\n",
       "    'outputs': [{'name': 'stdout',\n",
       "      'output_type': 'stream',\n",
       "      'text': \"{'ResponseMetadata': {'RequestId': '4442587FB7D0A2F9', 'HostId': '', 'HTTPStatusCode': 200, 'HTTPHeaders': {'date': 'Fri, 20 Mar 2020 07:08:58 GMT', 'x-amz-request-id': '4442587FB7D0A2F9', 'content-type': 'application/xml; charset=UTF-8', 'transfer-encoding': 'chunked', 'server': 'Jetty(9.2.z-SNAPSHOT)'}, 'RetryAttempts': 0}, 'IsTruncated': False, 'Marker': '', 'Name': 'foo', 'Prefix': '', 'MaxKeys': 1000, 'EncodingType': 'url'}\\n{'ResponseMetadata': {'RequestId': '4442587FB7D0A2F9', 'HostId': '', 'HTTPStatusCode': 200, 'HTTPHeaders': {'date': 'Fri, 20 Mar 2020 07:08:58 GMT', 'x-amz-request-id': '4442587FB7D0A2F9', 'content-type': 'application/xml; charset=UTF-8', 'transfer-encoding': 'chunked', 'server': 'Jetty(9.2.z-SNAPSHOT)'}, 'RetryAttempts': 0}, 'IsTruncated': False, 'Name': 'foo', 'Prefix': '', 'MaxKeys': 1000, 'EncodingType': 'url', 'KeyCount': 0, 'ContinuationToken': '', 'StartAfter': ''}\\n\"},\n",
       "     {'data': {'text/plain': \"{'ResponseMetadata': {'RequestId': '4442587FB7D0A2F9',\\n  'HostId': '',\\n  'HTTPStatusCode': 200,\\n  'HTTPHeaders': {'date': 'Fri, 20 Mar 2020 07:08:58 GMT',\\n   'x-amz-request-id': '4442587FB7D0A2F9',\\n   'location': '/foo',\\n   'content-length': '0',\\n   'server': 'Jetty(9.2.z-SNAPSHOT)'},\\n  'RetryAttempts': 0},\\n 'Location': '/foo'}\"},\n",
       "      'execution_count': 18,\n",
       "      'metadata': {},\n",
       "      'output_type': 'execute_result'}],\n",
       "    'source': \"bucket_name = 'foo'\\nboto_kwargs = dict(\\n    config=botocore.client.Config(signature_version=botocore.UNSIGNED),\\n    endpoint_url='http://127.0.0.1:9000',\\n#     aws_access_key_id='',\\n#     aws_secret_access_key='',\\n#     region_name=self.region,\\n)\\n\\nclient = boto3.client('s3', **boto_kwargs)\\nresource = boto3.resource('s3', **boto_kwargs)\\n\\n# check if bucket already exists\\nbucket = resource.Bucket(bucket_name)\\nbucket_exists = True\\ntry:\\n    resource.meta.client.head_bucket(Bucket=bucket_name)\\nexcept botocore.exceptions.ClientError as e:\\n    # If it was a 404 error, then the bucket does not exist.\\n    error_code = e.response['Error']['Code']\\n    if error_code == '404':\\n        bucket_exists = False\\n\\nif bucket_exists:\\n    # dump info on any existing s3 contents\\n    for key in bucket.objects.all():\\n        print(key)\\n    print(client.list_objects(Bucket=bucket_name))\\n    print(client.list_objects_v2(Bucket=bucket_name))\\n\\n    # delete the bucket\\n    for key in bucket.objects.all():\\n        key.delete()\\n    bucket.delete()\\n\\nclient.create_bucket(Bucket=bucket_name)\"},\n",
       "   {'cell_type': 'markdown',\n",
       "    'metadata': {},\n",
       "    'source': '## Set up a S3 PyFilesystemContentsManager'},\n",
       "   {'cell_type': 'code',\n",
       "    'execution_count': None,\n",
       "    'metadata': {'trusted': True},\n",
       "    'outputs': [],\n",
       "    'source': \"fooman = PyFilesystemContentsManager.open_fs('s3://foo?endpoint_url=http://127.0.0.1:9000')\\n# fooman.get('')\"},\n",
       "   {'cell_type': 'markdown',\n",
       "    'metadata': {},\n",
       "    'source': '## Set up a local PyFilesystemContentsManager'},\n",
       "   {'cell_type': 'code',\n",
       "    'execution_count': None,\n",
       "    'metadata': {'trusted': True},\n",
       "    'outputs': [],\n",
       "    'source': \"osman = PyFilesystemContentsManager.open_fs('osfs://%s' % os.getcwd())\\n# osman.get('')\"},\n",
       "   {'cell_type': 'markdown',\n",
       "    'metadata': {},\n",
       "    'source': '## Create some dirs on our S3 filesystem and save this notebook into them'},\n",
       "   {'cell_type': 'code',\n",
       "    'execution_count': None,\n",
       "    'metadata': {'trusted': True},\n",
       "    'outputs': [],\n",
       "    'source': 'fooman.save(osman.get(\\'pyfilesystem_s3fs.ipynb\\'), \\'pyfilesystem_s3fs.ipynb\\')\\nfooman._save_directory(\\'root0\\', None)\\nfooman._save_directory(\\'root1\\', None)\\nfooman._save_directory(\\'root1/leaf1\\', None)\\nfooman.save(osman.get(\"pyfilesystem_s3fs.ipynb\"), \\'root0/pyfilesystem_s3fs.ipynb\\')\\nfooman.save(osman.get(\"pyfilesystem_s3fs.ipynb\"), \\'root1/leaf1/pyfilesystem_s3fs.ipynb\\')'},\n",
       "   {'cell_type': 'markdown',\n",
       "    'metadata': {},\n",
       "    'source': '## Retrieve the saved data from our S3 filesystem'},\n",
       "   {'cell_type': 'code',\n",
       "    'execution_count': None,\n",
       "    'metadata': {'scrolled': True, 'trusted': True},\n",
       "    'outputs': [],\n",
       "    'source': \"fpath = 'pyfilesystem_s3fs.ipynb'\\nfooman.get(fpath)\"},\n",
       "   {'cell_type': 'code',\n",
       "    'execution_count': None,\n",
       "    'metadata': {'scrolled': True, 'trusted': True},\n",
       "    'outputs': [],\n",
       "    'source': \"fpath = 'root0/pyfilesystem_s3fs.ipynb'\\nfooman.get(fpath)\"},\n",
       "   {'cell_type': 'code',\n",
       "    'execution_count': None,\n",
       "    'metadata': {'scrolled': True, 'trusted': True},\n",
       "    'outputs': [],\n",
       "    'source': \"fpath = 'root1/leaf1/pyfilesystem_s3fs.ipynb'\\nfooman.get(fpath)\"},\n",
       "   {'cell_type': 'markdown', 'metadata': {}, 'source': '## scratch'},\n",
       "   {'cell_type': 'markdown',\n",
       "    'metadata': {},\n",
       "    'source': '### examine underlying fs-s3fs'},\n",
       "   {'cell_type': 'code',\n",
       "    'execution_count': None,\n",
       "    'metadata': {'trusted': True},\n",
       "    'outputs': [],\n",
       "    'source': \"foofs = open_fs('s3://foo?endpoint_url=http://127.0.0.1:9000')\\nfoofs.getinfo('').raw\\nfoofs.getinfo('root1/')\"},\n",
       "   {'cell_type': 'code',\n",
       "    'execution_count': None,\n",
       "    'metadata': {'trusted': True},\n",
       "    'outputs': [],\n",
       "    'source': \"for fpath in ('pyfilesystem_s3fs.ipynb', 'root0/pyfilesystem_s3fs.ipynb', 'root1/leaf1/pyfilesystem_s3fs.ipynb'):\\n    print(foofs.getinfo(fpath).raw)\"},\n",
       "   {'cell_type': 'markdown',\n",
       "    'metadata': {},\n",
       "    'source': '## Use only boto3 resource api (not client api)'},\n",
       "   {'cell_type': 'code',\n",
       "    'execution_count': 24,\n",
       "    'metadata': {'scrolled': True, 'trusted': True},\n",
       "    'outputs': [{'data': {'text/plain': \"s3.Bucket(name='foo')\"},\n",
       "      'execution_count': 24,\n",
       "      'metadata': {},\n",
       "      'output_type': 'execute_result'}],\n",
       "    'source': \"bucket_name = 'foo'\\nboto_kwargs = dict(\\n    config=botocore.client.Config(signature_version=botocore.UNSIGNED),\\n    endpoint_url='http://127.0.0.1:9000',\\n)\\n\\nresource = boto3.resource('s3', **boto_kwargs)\\n\\n# check if bucket already exists\\nbucket = resource.Bucket(bucket_name)\\nbucket_exists = True\\ntry:\\n    resource.meta.client.head_bucket(Bucket=bucket_name)\\nexcept botocore.exceptions.ClientError as e:\\n    # If it was a 404 error, then the bucket does not exist.\\n    error_code = e.response['Error']['Code']\\n    if error_code == '404':\\n        bucket_exists = False\\n\\nif bucket_exists:\\n    # delete the bucket\\n    for key in bucket.objects.all():\\n        key.delete()\\n    bucket.delete()\\n\\nresource.create_bucket(Bucket=bucket_name)\"},\n",
       "   {'cell_type': 'code',\n",
       "    'execution_count': 26,\n",
       "    'metadata': {'trusted': True},\n",
       "    'outputs': [],\n",
       "    'source': \"test_bucket = 'test'\\ntest_endpoint_url = 'http://127.0.0.1:9000'\\n\\n_boto_kw = dict(\\n    config=botocore.client.Config(signature_version=botocore.UNSIGNED),\\n    endpoint_url=test_endpoint_url,\\n)\\n\\n\\ndef _s3Resource():\\n    return boto3.resource('s3', **_boto_kw)\\n\\n\\ndef _s3CreateBucket(bucket_name):\\n    s3Resource = _s3Resource()\\n\\n    # check if bucket already exists\\n    bucket = s3Resource.Bucket(bucket_name)\\n    bucket_exists = True\\n    try:\\n        s3Resource.meta.client.head_bucket(Bucket=bucket_name)\\n    except botocore.exceptions.ClientError as e:\\n        # If it was a 404 error, then the bucket does not exist.\\n        error_code = e.response['Error']['Code']\\n        if error_code == '404':\\n            bucket_exists = False\\n\\n    if not bucket_exists:\\n        # create the bucket\\n        s3Resource.create_bucket(Bucket=bucket_name)\\n\\n\\ndef _s3DeleteBucket(bucket_name):\\n    s3Resource = _s3Resource()\\n\\n    # check if bucket already exists\\n    bucket = s3Resource.Bucket(bucket_name)\\n    bucket_exists = True\\n    try:\\n        s3Resource.meta.client.head_bucket(Bucket=bucket_name)\\n    except botocore.exceptions.ClientError as e:\\n        # If it was a 404 error, then the bucket does not exist.\\n        error_code = e.response['Error']['Code']\\n        if error_code == '404':\\n            bucket_exists = False\\n\\n    if bucket_exists:\\n        # delete the bucket\\n        for key in bucket.objects.all():\\n            key.delete()\\n        bucket.delete()\\n\\n# test idempotency\\n_s3CreateBucket(test_bucket)\\n_s3DeleteBucket(test_bucket)\\n_s3DeleteBucket(test_bucket)\\n_s3CreateBucket(test_bucket)\\n_s3CreateBucket(test_bucket)\\n_s3DeleteBucket(test_bucket)\"},\n",
       "   {'cell_type': 'code',\n",
       "    'execution_count': None,\n",
       "    'metadata': {'trusted': True},\n",
       "    'outputs': [],\n",
       "    'source': ''}],\n",
       "  'metadata': {'kernelspec': {'display_name': 'Python 3',\n",
       "    'language': 'python',\n",
       "    'name': 'python3'},\n",
       "   'language_info': {'codemirror_mode': {'name': 'ipython', 'version': 3},\n",
       "    'file_extension': '.py',\n",
       "    'mimetype': 'text/x-python',\n",
       "    'name': 'python',\n",
       "    'nbconvert_exporter': 'python',\n",
       "    'pygments_lexer': 'ipython3',\n",
       "    'version': '3.7.6'}},\n",
       "  'nbformat': 4,\n",
       "  'nbformat_minor': 4},\n",
       " 'format': 'json',\n",
       " 'mimetype': None,\n",
       " 'size': 11229,\n",
       " 'writable': True,\n",
       " 'type': 'notebook'}"
      ]
     },
     "execution_count": 8,
     "metadata": {},
     "output_type": "execute_result"
    }
   ],
   "source": [
    "fpath = 'root0/pyfilesystem_s3fs.ipynb'\n",
    "fooman.get(fpath)"
   ]
  },
  {
   "cell_type": "code",
   "execution_count": 9,
   "metadata": {
    "scrolled": true
   },
   "outputs": [
    {
     "data": {
      "text/plain": [
       "{'name': 'pyfilesystem_s3fs.ipynb',\n",
       " 'path': 'root1/leaf1/pyfilesystem_s3fs.ipynb',\n",
       " 'last_modified': datetime.datetime(2020, 3, 20, 7, 23, 33, tzinfo=<UTC>),\n",
       " 'created': None,\n",
       " 'content': {'cells': [{'cell_type': 'markdown',\n",
       "    'metadata': {},\n",
       "    'source': 'Launch local S3 via s3proxy in a docker container (will not persist data):\\n\\n```\\ndocker run -p 9000:80 --env S3PROXY_AUTHORIZATION=none andrewgaul/s3proxy\\n```'},\n",
       "   {'cell_type': 'code',\n",
       "    'execution_count': 1,\n",
       "    'metadata': {'trusted': True},\n",
       "    'outputs': [],\n",
       "    'source': '%load_ext autoreload\\n%autoreload 2'},\n",
       "   {'cell_type': 'code',\n",
       "    'execution_count': 2,\n",
       "    'metadata': {'trusted': True},\n",
       "    'outputs': [],\n",
       "    'source': 'import boto3, botocore\\nfrom fs import open_fs\\nimport os\\nimport sys\\n\\nfrom jupyterfs.pyfilesystem_manager import PyFilesystemContentsManager'},\n",
       "   {'cell_type': 'markdown',\n",
       "    'metadata': {},\n",
       "    'source': '## Create a bucket to use as the filesystem'},\n",
       "   {'cell_type': 'code',\n",
       "    'execution_count': 18,\n",
       "    'metadata': {'scrolled': True, 'trusted': True},\n",
       "    'outputs': [{'name': 'stdout',\n",
       "      'output_type': 'stream',\n",
       "      'text': \"{'ResponseMetadata': {'RequestId': '4442587FB7D0A2F9', 'HostId': '', 'HTTPStatusCode': 200, 'HTTPHeaders': {'date': 'Fri, 20 Mar 2020 07:08:58 GMT', 'x-amz-request-id': '4442587FB7D0A2F9', 'content-type': 'application/xml; charset=UTF-8', 'transfer-encoding': 'chunked', 'server': 'Jetty(9.2.z-SNAPSHOT)'}, 'RetryAttempts': 0}, 'IsTruncated': False, 'Marker': '', 'Name': 'foo', 'Prefix': '', 'MaxKeys': 1000, 'EncodingType': 'url'}\\n{'ResponseMetadata': {'RequestId': '4442587FB7D0A2F9', 'HostId': '', 'HTTPStatusCode': 200, 'HTTPHeaders': {'date': 'Fri, 20 Mar 2020 07:08:58 GMT', 'x-amz-request-id': '4442587FB7D0A2F9', 'content-type': 'application/xml; charset=UTF-8', 'transfer-encoding': 'chunked', 'server': 'Jetty(9.2.z-SNAPSHOT)'}, 'RetryAttempts': 0}, 'IsTruncated': False, 'Name': 'foo', 'Prefix': '', 'MaxKeys': 1000, 'EncodingType': 'url', 'KeyCount': 0, 'ContinuationToken': '', 'StartAfter': ''}\\n\"},\n",
       "     {'data': {'text/plain': \"{'ResponseMetadata': {'RequestId': '4442587FB7D0A2F9',\\n  'HostId': '',\\n  'HTTPStatusCode': 200,\\n  'HTTPHeaders': {'date': 'Fri, 20 Mar 2020 07:08:58 GMT',\\n   'x-amz-request-id': '4442587FB7D0A2F9',\\n   'location': '/foo',\\n   'content-length': '0',\\n   'server': 'Jetty(9.2.z-SNAPSHOT)'},\\n  'RetryAttempts': 0},\\n 'Location': '/foo'}\"},\n",
       "      'execution_count': 18,\n",
       "      'metadata': {},\n",
       "      'output_type': 'execute_result'}],\n",
       "    'source': \"bucket_name = 'foo'\\nboto_kwargs = dict(\\n    config=botocore.client.Config(signature_version=botocore.UNSIGNED),\\n    endpoint_url='http://127.0.0.1:9000',\\n#     aws_access_key_id='',\\n#     aws_secret_access_key='',\\n#     region_name=self.region,\\n)\\n\\nclient = boto3.client('s3', **boto_kwargs)\\nresource = boto3.resource('s3', **boto_kwargs)\\n\\n# check if bucket already exists\\nbucket = resource.Bucket(bucket_name)\\nbucket_exists = True\\ntry:\\n    resource.meta.client.head_bucket(Bucket=bucket_name)\\nexcept botocore.exceptions.ClientError as e:\\n    # If it was a 404 error, then the bucket does not exist.\\n    error_code = e.response['Error']['Code']\\n    if error_code == '404':\\n        bucket_exists = False\\n\\nif bucket_exists:\\n    # dump info on any existing s3 contents\\n    for key in bucket.objects.all():\\n        print(key)\\n    print(client.list_objects(Bucket=bucket_name))\\n    print(client.list_objects_v2(Bucket=bucket_name))\\n\\n    # delete the bucket\\n    for key in bucket.objects.all():\\n        key.delete()\\n    bucket.delete()\\n\\nclient.create_bucket(Bucket=bucket_name)\"},\n",
       "   {'cell_type': 'markdown',\n",
       "    'metadata': {},\n",
       "    'source': '## Set up a S3 PyFilesystemContentsManager'},\n",
       "   {'cell_type': 'code',\n",
       "    'execution_count': None,\n",
       "    'metadata': {'trusted': True},\n",
       "    'outputs': [],\n",
       "    'source': \"fooman = PyFilesystemContentsManager.open_fs('s3://foo?endpoint_url=http://127.0.0.1:9000')\\n# fooman.get('')\"},\n",
       "   {'cell_type': 'markdown',\n",
       "    'metadata': {},\n",
       "    'source': '## Set up a local PyFilesystemContentsManager'},\n",
       "   {'cell_type': 'code',\n",
       "    'execution_count': None,\n",
       "    'metadata': {'trusted': True},\n",
       "    'outputs': [],\n",
       "    'source': \"osman = PyFilesystemContentsManager.open_fs('osfs://%s' % os.getcwd())\\n# osman.get('')\"},\n",
       "   {'cell_type': 'markdown',\n",
       "    'metadata': {},\n",
       "    'source': '## Create some dirs on our S3 filesystem and save this notebook into them'},\n",
       "   {'cell_type': 'code',\n",
       "    'execution_count': None,\n",
       "    'metadata': {'trusted': True},\n",
       "    'outputs': [],\n",
       "    'source': 'fooman.save(osman.get(\\'pyfilesystem_s3fs.ipynb\\'), \\'pyfilesystem_s3fs.ipynb\\')\\nfooman._save_directory(\\'root0\\', None)\\nfooman._save_directory(\\'root1\\', None)\\nfooman._save_directory(\\'root1/leaf1\\', None)\\nfooman.save(osman.get(\"pyfilesystem_s3fs.ipynb\"), \\'root0/pyfilesystem_s3fs.ipynb\\')\\nfooman.save(osman.get(\"pyfilesystem_s3fs.ipynb\"), \\'root1/leaf1/pyfilesystem_s3fs.ipynb\\')'},\n",
       "   {'cell_type': 'markdown',\n",
       "    'metadata': {},\n",
       "    'source': '## Retrieve the saved data from our S3 filesystem'},\n",
       "   {'cell_type': 'code',\n",
       "    'execution_count': None,\n",
       "    'metadata': {'scrolled': True, 'trusted': True},\n",
       "    'outputs': [],\n",
       "    'source': \"fpath = 'pyfilesystem_s3fs.ipynb'\\nfooman.get(fpath)\"},\n",
       "   {'cell_type': 'code',\n",
       "    'execution_count': None,\n",
       "    'metadata': {'scrolled': True, 'trusted': True},\n",
       "    'outputs': [],\n",
       "    'source': \"fpath = 'root0/pyfilesystem_s3fs.ipynb'\\nfooman.get(fpath)\"},\n",
       "   {'cell_type': 'code',\n",
       "    'execution_count': None,\n",
       "    'metadata': {'scrolled': True, 'trusted': True},\n",
       "    'outputs': [],\n",
       "    'source': \"fpath = 'root1/leaf1/pyfilesystem_s3fs.ipynb'\\nfooman.get(fpath)\"},\n",
       "   {'cell_type': 'markdown', 'metadata': {}, 'source': '## scratch'},\n",
       "   {'cell_type': 'markdown',\n",
       "    'metadata': {},\n",
       "    'source': '### examine underlying fs-s3fs'},\n",
       "   {'cell_type': 'code',\n",
       "    'execution_count': None,\n",
       "    'metadata': {'trusted': True},\n",
       "    'outputs': [],\n",
       "    'source': \"foofs = open_fs('s3://foo?endpoint_url=http://127.0.0.1:9000')\\nfoofs.getinfo('').raw\\nfoofs.getinfo('root1/')\"},\n",
       "   {'cell_type': 'code',\n",
       "    'execution_count': None,\n",
       "    'metadata': {'trusted': True},\n",
       "    'outputs': [],\n",
       "    'source': \"for fpath in ('pyfilesystem_s3fs.ipynb', 'root0/pyfilesystem_s3fs.ipynb', 'root1/leaf1/pyfilesystem_s3fs.ipynb'):\\n    print(foofs.getinfo(fpath).raw)\"},\n",
       "   {'cell_type': 'markdown',\n",
       "    'metadata': {},\n",
       "    'source': '## Use only boto3 resource api (not client api)'},\n",
       "   {'cell_type': 'code',\n",
       "    'execution_count': 24,\n",
       "    'metadata': {'scrolled': True, 'trusted': True},\n",
       "    'outputs': [{'data': {'text/plain': \"s3.Bucket(name='foo')\"},\n",
       "      'execution_count': 24,\n",
       "      'metadata': {},\n",
       "      'output_type': 'execute_result'}],\n",
       "    'source': \"bucket_name = 'foo'\\nboto_kwargs = dict(\\n    config=botocore.client.Config(signature_version=botocore.UNSIGNED),\\n    endpoint_url='http://127.0.0.1:9000',\\n)\\n\\nresource = boto3.resource('s3', **boto_kwargs)\\n\\n# check if bucket already exists\\nbucket = resource.Bucket(bucket_name)\\nbucket_exists = True\\ntry:\\n    resource.meta.client.head_bucket(Bucket=bucket_name)\\nexcept botocore.exceptions.ClientError as e:\\n    # If it was a 404 error, then the bucket does not exist.\\n    error_code = e.response['Error']['Code']\\n    if error_code == '404':\\n        bucket_exists = False\\n\\nif bucket_exists:\\n    # delete the bucket\\n    for key in bucket.objects.all():\\n        key.delete()\\n    bucket.delete()\\n\\nresource.create_bucket(Bucket=bucket_name)\"},\n",
       "   {'cell_type': 'code',\n",
       "    'execution_count': 26,\n",
       "    'metadata': {'trusted': True},\n",
       "    'outputs': [],\n",
       "    'source': \"test_bucket = 'test'\\ntest_endpoint_url = 'http://127.0.0.1:9000'\\n\\n_boto_kw = dict(\\n    config=botocore.client.Config(signature_version=botocore.UNSIGNED),\\n    endpoint_url=test_endpoint_url,\\n)\\n\\n\\ndef _s3Resource():\\n    return boto3.resource('s3', **_boto_kw)\\n\\n\\ndef _s3CreateBucket(bucket_name):\\n    s3Resource = _s3Resource()\\n\\n    # check if bucket already exists\\n    bucket = s3Resource.Bucket(bucket_name)\\n    bucket_exists = True\\n    try:\\n        s3Resource.meta.client.head_bucket(Bucket=bucket_name)\\n    except botocore.exceptions.ClientError as e:\\n        # If it was a 404 error, then the bucket does not exist.\\n        error_code = e.response['Error']['Code']\\n        if error_code == '404':\\n            bucket_exists = False\\n\\n    if not bucket_exists:\\n        # create the bucket\\n        s3Resource.create_bucket(Bucket=bucket_name)\\n\\n\\ndef _s3DeleteBucket(bucket_name):\\n    s3Resource = _s3Resource()\\n\\n    # check if bucket already exists\\n    bucket = s3Resource.Bucket(bucket_name)\\n    bucket_exists = True\\n    try:\\n        s3Resource.meta.client.head_bucket(Bucket=bucket_name)\\n    except botocore.exceptions.ClientError as e:\\n        # If it was a 404 error, then the bucket does not exist.\\n        error_code = e.response['Error']['Code']\\n        if error_code == '404':\\n            bucket_exists = False\\n\\n    if bucket_exists:\\n        # delete the bucket\\n        for key in bucket.objects.all():\\n            key.delete()\\n        bucket.delete()\\n\\n# test idempotency\\n_s3CreateBucket(test_bucket)\\n_s3DeleteBucket(test_bucket)\\n_s3DeleteBucket(test_bucket)\\n_s3CreateBucket(test_bucket)\\n_s3CreateBucket(test_bucket)\\n_s3DeleteBucket(test_bucket)\"},\n",
       "   {'cell_type': 'code',\n",
       "    'execution_count': None,\n",
       "    'metadata': {'trusted': True},\n",
       "    'outputs': [],\n",
       "    'source': ''}],\n",
       "  'metadata': {'kernelspec': {'display_name': 'Python 3',\n",
       "    'language': 'python',\n",
       "    'name': 'python3'},\n",
       "   'language_info': {'codemirror_mode': {'name': 'ipython', 'version': 3},\n",
       "    'file_extension': '.py',\n",
       "    'mimetype': 'text/x-python',\n",
       "    'name': 'python',\n",
       "    'nbconvert_exporter': 'python',\n",
       "    'pygments_lexer': 'ipython3',\n",
       "    'version': '3.7.6'}},\n",
       "  'nbformat': 4,\n",
       "  'nbformat_minor': 4},\n",
       " 'format': 'json',\n",
       " 'mimetype': None,\n",
       " 'size': 11229,\n",
       " 'writable': True,\n",
       " 'type': 'notebook'}"
      ]
     },
     "execution_count": 9,
     "metadata": {},
     "output_type": "execute_result"
    }
   ],
   "source": [
    "fpath = 'root1/leaf1/pyfilesystem_s3fs.ipynb'\n",
    "fooman.get(fpath)"
   ]
  },
  {
   "cell_type": "markdown",
   "metadata": {},
   "source": [
    "## scratch"
   ]
  },
  {
   "cell_type": "markdown",
   "metadata": {},
   "source": [
    "### examine underlying fs-s3fs"
   ]
  },
  {
   "cell_type": "code",
   "execution_count": null,
   "metadata": {},
   "outputs": [],
   "source": [
    "foofs = open_fs('s3://foo?endpoint_url=http://127.0.0.1:9000')\n",
    "foofs.getinfo('').raw\n",
    "foofs.getinfo('root1/')"
   ]
  },
  {
   "cell_type": "code",
   "execution_count": null,
   "metadata": {},
   "outputs": [],
   "source": [
    "for fpath in ('pyfilesystem_s3fs.ipynb', 'root0/pyfilesystem_s3fs.ipynb', 'root1/leaf1/pyfilesystem_s3fs.ipynb'):\n",
    "    print(foofs.getinfo(fpath).raw)"
   ]
  },
  {
   "cell_type": "markdown",
   "metadata": {},
   "source": [
    "## Use only boto3 resource api (not client api)"
   ]
  },
  {
   "cell_type": "code",
   "execution_count": 24,
   "metadata": {
    "scrolled": true
   },
   "outputs": [
    {
     "data": {
      "text/plain": [
       "s3.Bucket(name='foo')"
      ]
     },
     "execution_count": 24,
     "metadata": {},
     "output_type": "execute_result"
    }
   ],
   "source": [
    "bucket_name = 'foo'\n",
    "boto_kwargs = dict(\n",
    "    config=botocore.client.Config(signature_version=botocore.UNSIGNED),\n",
    "    endpoint_url='http://127.0.0.1:9000',\n",
    ")\n",
    "\n",
    "resource = boto3.resource('s3', **boto_kwargs)\n",
    "\n",
    "# check if bucket already exists\n",
    "bucket = resource.Bucket(bucket_name)\n",
    "bucket_exists = True\n",
    "try:\n",
    "    resource.meta.client.head_bucket(Bucket=bucket_name)\n",
    "except botocore.exceptions.ClientError as e:\n",
    "    # If it was a 404 error, then the bucket does not exist.\n",
    "    error_code = e.response['Error']['Code']\n",
    "    if error_code == '404':\n",
    "        bucket_exists = False\n",
    "\n",
    "if bucket_exists:\n",
    "    # delete the bucket\n",
    "    for key in bucket.objects.all():\n",
    "        key.delete()\n",
    "    bucket.delete()\n",
    "\n",
    "resource.create_bucket(Bucket=bucket_name)"
   ]
  },
  {
   "cell_type": "code",
   "execution_count": 26,
   "metadata": {},
   "outputs": [],
   "source": [
    "test_bucket = 'test'\n",
    "test_endpoint_url = 'http://127.0.0.1:9000'\n",
    "\n",
    "_boto_kw = dict(\n",
    "    config=botocore.client.Config(signature_version=botocore.UNSIGNED),\n",
    "    endpoint_url=test_endpoint_url,\n",
    ")\n",
    "\n",
    "\n",
    "def _s3Resource():\n",
    "    return boto3.resource('s3', **_boto_kw)\n",
    "\n",
    "\n",
    "def _s3CreateBucket(bucket_name):\n",
    "    s3Resource = _s3Resource()\n",
    "\n",
    "    # check if bucket already exists\n",
    "    bucket = s3Resource.Bucket(bucket_name)\n",
    "    bucket_exists = True\n",
    "    try:\n",
    "        s3Resource.meta.client.head_bucket(Bucket=bucket_name)\n",
    "    except botocore.exceptions.ClientError as e:\n",
    "        # If it was a 404 error, then the bucket does not exist.\n",
    "        error_code = e.response['Error']['Code']\n",
    "        if error_code == '404':\n",
    "            bucket_exists = False\n",
    "\n",
    "    if not bucket_exists:\n",
    "        # create the bucket\n",
    "        s3Resource.create_bucket(Bucket=bucket_name)\n",
    "\n",
    "\n",
    "def _s3DeleteBucket(bucket_name):\n",
    "    s3Resource = _s3Resource()\n",
    "\n",
    "    # check if bucket already exists\n",
    "    bucket = s3Resource.Bucket(bucket_name)\n",
    "    bucket_exists = True\n",
    "    try:\n",
    "        s3Resource.meta.client.head_bucket(Bucket=bucket_name)\n",
    "    except botocore.exceptions.ClientError as e:\n",
    "        # If it was a 404 error, then the bucket does not exist.\n",
    "        error_code = e.response['Error']['Code']\n",
    "        if error_code == '404':\n",
    "            bucket_exists = False\n",
    "\n",
    "    if bucket_exists:\n",
    "        # delete the bucket\n",
    "        for key in bucket.objects.all():\n",
    "            key.delete()\n",
    "        bucket.delete()\n",
    "\n",
    "# test idempotency\n",
    "_s3CreateBucket(test_bucket)\n",
    "_s3DeleteBucket(test_bucket)\n",
    "_s3DeleteBucket(test_bucket)\n",
    "_s3CreateBucket(test_bucket)\n",
    "_s3CreateBucket(test_bucket)\n",
    "_s3DeleteBucket(test_bucket)"
   ]
  },
  {
   "cell_type": "code",
   "execution_count": null,
   "metadata": {},
   "outputs": [],
   "source": []
  }
 ],
 "metadata": {
  "kernelspec": {
   "display_name": "Python 3",
   "language": "python",
   "name": "python3"
  },
  "language_info": {
   "codemirror_mode": {
    "name": "ipython",
    "version": 3
   },
   "file_extension": ".py",
   "mimetype": "text/x-python",
   "name": "python",
   "nbconvert_exporter": "python",
   "pygments_lexer": "ipython3",
   "version": "3.7.6"
  }
 },
 "nbformat": 4,
 "nbformat_minor": 4
}
